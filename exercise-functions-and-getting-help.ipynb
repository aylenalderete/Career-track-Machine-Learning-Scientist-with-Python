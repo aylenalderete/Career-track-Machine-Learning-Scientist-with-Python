{
 "cells": [
  {
   "cell_type": "markdown",
   "id": "927be060",
   "metadata": {
    "papermill": {
     "duration": 0.008878,
     "end_time": "2022-05-26T00:55:27.699344",
     "exception": false,
     "start_time": "2022-05-26T00:55:27.690466",
     "status": "completed"
    },
    "tags": []
   },
   "source": [
    "**This notebook is an exercise in the [Python](https://www.kaggle.com/learn/python) course.  You can reference the tutorial at [this link](https://www.kaggle.com/colinmorris/functions-and-getting-help).**\n",
    "\n",
    "---\n"
   ]
  },
  {
   "cell_type": "markdown",
   "id": "71562069",
   "metadata": {
    "papermill": {
     "duration": 0.005301,
     "end_time": "2022-05-26T00:55:27.710407",
     "exception": false,
     "start_time": "2022-05-26T00:55:27.705106",
     "status": "completed"
    },
    "tags": []
   },
   "source": [
    "Functions are powerful. Try writing some yourself.\n",
    "\n",
    "As before, don't forget to run the setup code below before jumping into question 1."
   ]
  },
  {
   "cell_type": "code",
   "execution_count": 1,
   "id": "3cc6b80f",
   "metadata": {
    "_kg_hide-input": true,
    "_kg_hide-output": true,
    "execution": {
     "iopub.execute_input": "2022-05-26T00:55:27.725171Z",
     "iopub.status.busy": "2022-05-26T00:55:27.724322Z",
     "iopub.status.idle": "2022-05-26T00:55:27.773926Z",
     "shell.execute_reply": "2022-05-26T00:55:27.772888Z"
    },
    "papermill": {
     "duration": 0.059636,
     "end_time": "2022-05-26T00:55:27.776327",
     "exception": false,
     "start_time": "2022-05-26T00:55:27.716691",
     "status": "completed"
    },
    "tags": []
   },
   "outputs": [
    {
     "name": "stdout",
     "output_type": "stream",
     "text": [
      "Setup complete.\n"
     ]
    }
   ],
   "source": [
    "# SETUP. You don't need to worry for now about what this code does or how it works.\n",
    "from learntools.core import binder; binder.bind(globals())\n",
    "from learntools.python.ex2 import *\n",
    "print('Setup complete.')"
   ]
  },
  {
   "cell_type": "markdown",
   "id": "834f93eb",
   "metadata": {
    "papermill": {
     "duration": 0.005355,
     "end_time": "2022-05-26T00:55:27.787358",
     "exception": false,
     "start_time": "2022-05-26T00:55:27.782003",
     "status": "completed"
    },
    "tags": []
   },
   "source": [
    "# 1.\n",
    "\n",
    "Complete the body of the following function according to its docstring.\n",
    "\n",
    "HINT: Python has a built-in function `round`."
   ]
  },
  {
   "cell_type": "code",
   "execution_count": 2,
   "id": "702cc739",
   "metadata": {
    "execution": {
     "iopub.execute_input": "2022-05-26T00:55:27.801003Z",
     "iopub.status.busy": "2022-05-26T00:55:27.800573Z",
     "iopub.status.idle": "2022-05-26T00:55:27.811635Z",
     "shell.execute_reply": "2022-05-26T00:55:27.810886Z"
    },
    "papermill": {
     "duration": 0.0207,
     "end_time": "2022-05-26T00:55:27.813718",
     "exception": false,
     "start_time": "2022-05-26T00:55:27.793018",
     "status": "completed"
    },
    "tags": []
   },
   "outputs": [
    {
     "data": {
      "application/javascript": [
       "parent.postMessage({\"jupyterEvent\": \"custom.exercise_interaction\", \"data\": {\"outcomeType\": 1, \"valueTowardsCompletion\": 0.16666666666666666, \"interactionType\": 1, \"questionType\": 2, \"questionId\": \"1_RoundFunctionProblem\", \"learnToolsVersion\": \"0.3.4\", \"failureMessage\": \"\", \"exceptionClass\": \"\", \"trace\": \"\"}}, \"*\")"
      ],
      "text/plain": [
       "<IPython.core.display.Javascript object>"
      ]
     },
     "metadata": {},
     "output_type": "display_data"
    },
    {
     "data": {
      "text/markdown": [
       "<span style=\"color:#33cc33\">Correct</span>"
      ],
      "text/plain": [
       "Correct"
      ]
     },
     "metadata": {},
     "output_type": "display_data"
    }
   ],
   "source": [
    "def round_to_two_places(num):\n",
    "    \"\"\"Return the given number rounded to two decimal places. \n",
    "    \n",
    "    >>> round_to_two_places(3.14159)\n",
    "    3.14\n",
    "    \"\"\"\n",
    "    return round(num, 2)\n",
    "    # Replace this body with your own code.\n",
    "    # (\"pass\" is a keyword that does literally nothing. We used it as a placeholder\n",
    "    # because after we begin a code block, Python requires at least one line of code)\n",
    "    pass\n",
    "\n",
    "# Check your answer\n",
    "q1.check()"
   ]
  },
  {
   "cell_type": "code",
   "execution_count": 3,
   "id": "be4228cd",
   "metadata": {
    "execution": {
     "iopub.execute_input": "2022-05-26T00:55:27.828181Z",
     "iopub.status.busy": "2022-05-26T00:55:27.827101Z",
     "iopub.status.idle": "2022-05-26T00:55:27.835744Z",
     "shell.execute_reply": "2022-05-26T00:55:27.834873Z"
    },
    "papermill": {
     "duration": 0.018178,
     "end_time": "2022-05-26T00:55:27.837974",
     "exception": false,
     "start_time": "2022-05-26T00:55:27.819796",
     "status": "completed"
    },
    "tags": []
   },
   "outputs": [
    {
     "data": {
      "application/javascript": [
       "parent.postMessage({\"jupyterEvent\": \"custom.exercise_interaction\", \"data\": {\"interactionType\": 2, \"questionType\": 2, \"questionId\": \"1_RoundFunctionProblem\", \"learnToolsVersion\": \"0.3.4\", \"valueTowardsCompletion\": 0.0, \"failureMessage\": \"\", \"exceptionClass\": \"\", \"trace\": \"\", \"outcomeType\": 4}}, \"*\")"
      ],
      "text/plain": [
       "<IPython.core.display.Javascript object>"
      ]
     },
     "metadata": {},
     "output_type": "display_data"
    },
    {
     "data": {
      "text/markdown": [
       "<span style=\"color:#3366cc\">Hint:</span> Run `help(round)` in the console (or in a code cell) to learn more about the round function. You'll need to use the function's optional second argument."
      ],
      "text/plain": [
       "Hint: Run `help(round)` in the console (or in a code cell) to learn more about the round function. You'll need to use the function's optional second argument."
      ]
     },
     "metadata": {},
     "output_type": "display_data"
    }
   ],
   "source": [
    "# Uncomment the following for a hint\n",
    "q1.hint()\n",
    "# Or uncomment the following to peek at the solution\n",
    "#q1.solution()"
   ]
  },
  {
   "cell_type": "markdown",
   "id": "0fcef54c",
   "metadata": {
    "papermill": {
     "duration": 0.006182,
     "end_time": "2022-05-26T00:55:27.850491",
     "exception": false,
     "start_time": "2022-05-26T00:55:27.844309",
     "status": "completed"
    },
    "tags": []
   },
   "source": [
    "# 2.\n",
    "The help for `round` says that `ndigits` (the second argument) may be negative.\n",
    "What do you think will happen when it is? Try some examples in the following cell."
   ]
  },
  {
   "cell_type": "code",
   "execution_count": 4,
   "id": "9d0ed76d",
   "metadata": {
    "execution": {
     "iopub.execute_input": "2022-05-26T00:55:27.865174Z",
     "iopub.status.busy": "2022-05-26T00:55:27.864639Z",
     "iopub.status.idle": "2022-05-26T00:55:27.871042Z",
     "shell.execute_reply": "2022-05-26T00:55:27.870003Z"
    },
    "papermill": {
     "duration": 0.016361,
     "end_time": "2022-05-26T00:55:27.873347",
     "exception": false,
     "start_time": "2022-05-26T00:55:27.856986",
     "status": "completed"
    },
    "tags": []
   },
   "outputs": [
    {
     "data": {
      "text/plain": [
       "0.0"
      ]
     },
     "execution_count": 4,
     "metadata": {},
     "output_type": "execute_result"
    }
   ],
   "source": [
    "# Put your test code here\n",
    "round(5.000, -1)"
   ]
  },
  {
   "cell_type": "markdown",
   "id": "de2ba8f9",
   "metadata": {
    "papermill": {
     "duration": 0.006223,
     "end_time": "2022-05-26T00:55:27.886248",
     "exception": false,
     "start_time": "2022-05-26T00:55:27.880025",
     "status": "completed"
    },
    "tags": []
   },
   "source": [
    "Can you think of a case where this would be useful?  Once you're ready, run the code cell below to see the answer and to receive credit for completing the problem."
   ]
  },
  {
   "cell_type": "code",
   "execution_count": 5,
   "id": "4a9f7a8a",
   "metadata": {
    "execution": {
     "iopub.execute_input": "2022-05-26T00:55:27.901518Z",
     "iopub.status.busy": "2022-05-26T00:55:27.900762Z",
     "iopub.status.idle": "2022-05-26T00:55:27.909285Z",
     "shell.execute_reply": "2022-05-26T00:55:27.908320Z"
    },
    "papermill": {
     "duration": 0.018604,
     "end_time": "2022-05-26T00:55:27.911386",
     "exception": false,
     "start_time": "2022-05-26T00:55:27.892782",
     "status": "completed"
    },
    "tags": []
   },
   "outputs": [
    {
     "data": {
      "application/javascript": [
       "parent.postMessage({\"jupyterEvent\": \"custom.exercise_interaction\", \"data\": {\"interactionType\": 3, \"questionType\": 4, \"questionId\": \"2_RoundNdigitsProblem\", \"learnToolsVersion\": \"0.3.4\", \"valueTowardsCompletion\": 0.0, \"failureMessage\": \"\", \"exceptionClass\": \"\", \"trace\": \"\", \"outcomeType\": 4}}, \"*\")"
      ],
      "text/plain": [
       "<IPython.core.display.Javascript object>"
      ]
     },
     "metadata": {},
     "output_type": "display_data"
    },
    {
     "data": {
      "text/markdown": [
       "<span style=\"color:#33cc99\">Solution:</span> As you've seen, `ndigits=-1` rounds to the nearest 10, `ndigits=-2` rounds to the nearest 100 and so on. Where might this be useful? Suppose we're dealing with large numbers:\n",
       "\n",
       "> The area of Finland is 338,424 km²  \n",
       "> The area of Greenland is 2,166,086 km²\n",
       "\n",
       "We probably don't care whether it's really 338,424, or 338,425, or 338,177. All those digits of accuracy are just distracting. We can chop them off by calling `round()` with `ndigits=-3`:\n",
       "\n",
       "> The area of Finland is 338,000 km²  \n",
       "> The area of Greenland is 2,166,000 km²\n",
       "\n",
       "(We'll talk about how we would get the commas later when we talk about string formatting :))\n"
      ],
      "text/plain": [
       "Solution: As you've seen, `ndigits=-1` rounds to the nearest 10, `ndigits=-2` rounds to the nearest 100 and so on. Where might this be useful? Suppose we're dealing with large numbers:\n",
       "\n",
       "> The area of Finland is 338,424 km²  \n",
       "> The area of Greenland is 2,166,086 km²\n",
       "\n",
       "We probably don't care whether it's really 338,424, or 338,425, or 338,177. All those digits of accuracy are just distracting. We can chop them off by calling `round()` with `ndigits=-3`:\n",
       "\n",
       "> The area of Finland is 338,000 km²  \n",
       "> The area of Greenland is 2,166,000 km²\n",
       "\n",
       "(We'll talk about how we would get the commas later when we talk about string formatting :))"
      ]
     },
     "metadata": {},
     "output_type": "display_data"
    }
   ],
   "source": [
    "# Check your answer (Run this code cell to receive credit!)\n",
    "q2.solution()"
   ]
  },
  {
   "cell_type": "markdown",
   "id": "d4fa12a6",
   "metadata": {
    "papermill": {
     "duration": 0.006876,
     "end_time": "2022-05-26T00:55:27.925167",
     "exception": false,
     "start_time": "2022-05-26T00:55:27.918291",
     "status": "completed"
    },
    "tags": []
   },
   "source": [
    "# 3.\n",
    "\n",
    "In the previous exercise, the candy-sharing friends Alice, Bob and Carol tried to split candies evenly. For the sake of their friendship, any candies left over would be smashed. For example, if they collectively bring home 91 candies, they'll take 30 each and smash 1.\n",
    "\n",
    "Below is a simple function that will calculate the number of candies to smash for *any* number of total candies.\n",
    "\n",
    "Modify it so that it optionally takes a second argument representing the number of friends the candies are being split between. If no second argument is provided, it should assume 3 friends, as before.\n",
    "\n",
    "Update the docstring to reflect this new behaviour."
   ]
  },
  {
   "cell_type": "code",
   "execution_count": 6,
   "id": "b4c14220",
   "metadata": {
    "execution": {
     "iopub.execute_input": "2022-05-26T00:55:27.940778Z",
     "iopub.status.busy": "2022-05-26T00:55:27.940024Z",
     "iopub.status.idle": "2022-05-26T00:55:27.949891Z",
     "shell.execute_reply": "2022-05-26T00:55:27.948886Z"
    },
    "papermill": {
     "duration": 0.019927,
     "end_time": "2022-05-26T00:55:27.951918",
     "exception": false,
     "start_time": "2022-05-26T00:55:27.931991",
     "status": "completed"
    },
    "tags": []
   },
   "outputs": [
    {
     "data": {
      "application/javascript": [
       "parent.postMessage({\"jupyterEvent\": \"custom.exercise_interaction\", \"data\": {\"outcomeType\": 1, \"valueTowardsCompletion\": 0.16666666666666666, \"interactionType\": 1, \"questionType\": 2, \"questionId\": \"3_CandySmashingFunctionProblem\", \"learnToolsVersion\": \"0.3.4\", \"failureMessage\": \"\", \"exceptionClass\": \"\", \"trace\": \"\"}}, \"*\")"
      ],
      "text/plain": [
       "<IPython.core.display.Javascript object>"
      ]
     },
     "metadata": {},
     "output_type": "display_data"
    },
    {
     "data": {
      "text/markdown": [
       "<span style=\"color:#33cc33\">Correct</span>"
      ],
      "text/plain": [
       "Correct"
      ]
     },
     "metadata": {},
     "output_type": "display_data"
    }
   ],
   "source": [
    "def to_smash(total_candies, num_friends=3):\n",
    "    \"\"\"Return the number of leftover candies that must be smashed after distributing\n",
    "    the given number of candies evenly between 3 friends.\n",
    "    \n",
    "    >>> to_smash(91)\n",
    "    1\n",
    "    \"\"\"\n",
    "    return total_candies % num_friends\n",
    "\n",
    "# Check your answer\n",
    "q3.check()"
   ]
  },
  {
   "cell_type": "code",
   "execution_count": 7,
   "id": "0cebcff0",
   "metadata": {
    "execution": {
     "iopub.execute_input": "2022-05-26T00:55:27.968102Z",
     "iopub.status.busy": "2022-05-26T00:55:27.966947Z",
     "iopub.status.idle": "2022-05-26T00:55:27.974867Z",
     "shell.execute_reply": "2022-05-26T00:55:27.974150Z"
    },
    "papermill": {
     "duration": 0.017931,
     "end_time": "2022-05-26T00:55:27.976835",
     "exception": false,
     "start_time": "2022-05-26T00:55:27.958904",
     "status": "completed"
    },
    "tags": []
   },
   "outputs": [
    {
     "data": {
      "application/javascript": [
       "parent.postMessage({\"jupyterEvent\": \"custom.exercise_interaction\", \"data\": {\"interactionType\": 2, \"questionType\": 2, \"questionId\": \"3_CandySmashingFunctionProblem\", \"learnToolsVersion\": \"0.3.4\", \"valueTowardsCompletion\": 0.0, \"failureMessage\": \"\", \"exceptionClass\": \"\", \"trace\": \"\", \"outcomeType\": 4}}, \"*\")"
      ],
      "text/plain": [
       "<IPython.core.display.Javascript object>"
      ]
     },
     "metadata": {},
     "output_type": "display_data"
    },
    {
     "data": {
      "text/markdown": [
       "<span style=\"color:#3366cc\">Hint:</span> Refer to the section of the last tutorial notebook where we talked about default arguments"
      ],
      "text/plain": [
       "Hint: Refer to the section of the last tutorial notebook where we talked about default arguments"
      ]
     },
     "metadata": {},
     "output_type": "display_data"
    }
   ],
   "source": [
    "q3.hint()"
   ]
  },
  {
   "cell_type": "code",
   "execution_count": 8,
   "id": "c3f40e31",
   "metadata": {
    "execution": {
     "iopub.execute_input": "2022-05-26T00:55:27.993566Z",
     "iopub.status.busy": "2022-05-26T00:55:27.992852Z",
     "iopub.status.idle": "2022-05-26T00:55:28.000212Z",
     "shell.execute_reply": "2022-05-26T00:55:27.999369Z"
    },
    "papermill": {
     "duration": 0.018038,
     "end_time": "2022-05-26T00:55:28.002222",
     "exception": false,
     "start_time": "2022-05-26T00:55:27.984184",
     "status": "completed"
    },
    "tags": []
   },
   "outputs": [
    {
     "data": {
      "application/javascript": [
       "parent.postMessage({\"jupyterEvent\": \"custom.exercise_interaction\", \"data\": {\"interactionType\": 3, \"questionType\": 2, \"questionId\": \"3_CandySmashingFunctionProblem\", \"learnToolsVersion\": \"0.3.4\", \"valueTowardsCompletion\": 0.0, \"failureMessage\": \"\", \"exceptionClass\": \"\", \"trace\": \"\", \"outcomeType\": 4}}, \"*\")"
      ],
      "text/plain": [
       "<IPython.core.display.Javascript object>"
      ]
     },
     "metadata": {},
     "output_type": "display_data"
    },
    {
     "data": {
      "text/markdown": [
       "<span style=\"color:#33cc99\">Solution:</span> \n",
       "```python\n",
       "def to_smash(total_candies, n_friends=3):\n",
       "    return total_candies % n_friends\n",
       "```"
      ],
      "text/plain": [
       "Solution: \n",
       "```python\n",
       "def to_smash(total_candies, n_friends=3):\n",
       "    return total_candies % n_friends\n",
       "```"
      ]
     },
     "metadata": {},
     "output_type": "display_data"
    }
   ],
   "source": [
    "q3.solution()"
   ]
  },
  {
   "cell_type": "markdown",
   "id": "b328eaa4",
   "metadata": {
    "papermill": {
     "duration": 0.007182,
     "end_time": "2022-05-26T00:55:28.017057",
     "exception": false,
     "start_time": "2022-05-26T00:55:28.009875",
     "status": "completed"
    },
    "tags": []
   },
   "source": [
    "# 4. (Optional)\n",
    "\n",
    "It may not be fun, but reading and understanding error messages will be an important part of your Python career.\n",
    "\n",
    "Each code cell below contains some commented buggy code. For each cell...\n",
    "\n",
    "1. Read the code and predict what you think will happen when it's run.\n",
    "2. Then uncomment the code and run it to see what happens. (**Tip**: In the kernel editor, you can highlight several lines and press `ctrl`+`/` to toggle commenting.)\n",
    "3. Fix the code (so that it accomplishes its intended purpose without throwing an exception)\n",
    "\n",
    "<!-- TODO: should this be autochecked? Delta is probably pretty small. -->"
   ]
  },
  {
   "cell_type": "code",
   "execution_count": 9,
   "id": "920369cf",
   "metadata": {
    "execution": {
     "iopub.execute_input": "2022-05-26T00:55:28.034917Z",
     "iopub.status.busy": "2022-05-26T00:55:28.034155Z",
     "iopub.status.idle": "2022-05-26T00:55:28.040418Z",
     "shell.execute_reply": "2022-05-26T00:55:28.039613Z"
    },
    "papermill": {
     "duration": 0.017726,
     "end_time": "2022-05-26T00:55:28.042373",
     "exception": false,
     "start_time": "2022-05-26T00:55:28.024647",
     "status": "completed"
    },
    "tags": []
   },
   "outputs": [
    {
     "data": {
      "text/plain": [
       "9.9999"
      ]
     },
     "execution_count": 9,
     "metadata": {},
     "output_type": "execute_result"
    }
   ],
   "source": [
    "def ruound_to_two_places (num):\n",
    "    return num\n",
    "\n",
    "ruound_to_two_places(9.9999)"
   ]
  },
  {
   "cell_type": "code",
   "execution_count": 10,
   "id": "c9c02961",
   "metadata": {
    "execution": {
     "iopub.execute_input": "2022-05-26T00:55:28.059951Z",
     "iopub.status.busy": "2022-05-26T00:55:28.059297Z",
     "iopub.status.idle": "2022-05-26T00:55:28.064989Z",
     "shell.execute_reply": "2022-05-26T00:55:28.063954Z"
    },
    "papermill": {
     "duration": 0.016959,
     "end_time": "2022-05-26T00:55:28.067086",
     "exception": false,
     "start_time": "2022-05-26T00:55:28.050127",
     "status": "completed"
    },
    "tags": []
   },
   "outputs": [
    {
     "name": "stdout",
     "output_type": "stream",
     "text": [
      "5\n"
     ]
    }
   ],
   "source": [
    "x = -10\n",
    "y = 5\n",
    "#Which of the two variables above has the smallest absolute value?\n",
    "smallest_abs = min(abs(x), y)\n",
    "print(smallest_abs)"
   ]
  },
  {
   "cell_type": "code",
   "execution_count": 11,
   "id": "39c89524",
   "metadata": {
    "execution": {
     "iopub.execute_input": "2022-05-26T00:55:28.084270Z",
     "iopub.status.busy": "2022-05-26T00:55:28.083398Z",
     "iopub.status.idle": "2022-05-26T00:55:28.089223Z",
     "shell.execute_reply": "2022-05-26T00:55:28.088224Z"
    },
    "papermill": {
     "duration": 0.017079,
     "end_time": "2022-05-26T00:55:28.091832",
     "exception": false,
     "start_time": "2022-05-26T00:55:28.074753",
     "status": "completed"
    },
    "tags": []
   },
   "outputs": [
    {
     "name": "stdout",
     "output_type": "stream",
     "text": [
      "5\n"
     ]
    }
   ],
   "source": [
    "def f(x):\n",
    "    y = abs(x)\n",
    "    return y\n",
    "\n",
    "print(f(5))"
   ]
  },
  {
   "cell_type": "markdown",
   "id": "6fa6e750",
   "metadata": {
    "papermill": {
     "duration": 0.007392,
     "end_time": "2022-05-26T00:55:28.106806",
     "exception": false,
     "start_time": "2022-05-26T00:55:28.099414",
     "status": "completed"
    },
    "tags": []
   },
   "source": [
    "# Keep Going\n",
    "\n",
    "Nice job with the code. Next up, you'll learn about *conditionals*, which you'll need to **[write interesting programs](https://www.kaggle.com/colinmorris/booleans-and-conditionals)**. "
   ]
  },
  {
   "cell_type": "markdown",
   "id": "bb82c238",
   "metadata": {
    "papermill": {
     "duration": 0.007664,
     "end_time": "2022-05-26T00:55:28.122508",
     "exception": false,
     "start_time": "2022-05-26T00:55:28.114844",
     "status": "completed"
    },
    "tags": []
   },
   "source": [
    "---\n",
    "\n",
    "\n",
    "\n",
    "\n",
    "*Have questions or comments? Visit the [course discussion forum](https://www.kaggle.com/learn/python/discussion) to chat with other learners.*"
   ]
  }
 ],
 "metadata": {
  "kernelspec": {
   "display_name": "Python 3",
   "language": "python",
   "name": "python3"
  },
  "language_info": {
   "codemirror_mode": {
    "name": "ipython",
    "version": 3
   },
   "file_extension": ".py",
   "mimetype": "text/x-python",
   "name": "python",
   "nbconvert_exporter": "python",
   "pygments_lexer": "ipython3",
   "version": "3.7.12"
  },
  "papermill": {
   "default_parameters": {},
   "duration": 11.701151,
   "end_time": "2022-05-26T00:55:28.751374",
   "environment_variables": {},
   "exception": null,
   "input_path": "__notebook__.ipynb",
   "output_path": "__notebook__.ipynb",
   "parameters": {},
   "start_time": "2022-05-26T00:55:17.050223",
   "version": "2.3.4"
  }
 },
 "nbformat": 4,
 "nbformat_minor": 5
}
