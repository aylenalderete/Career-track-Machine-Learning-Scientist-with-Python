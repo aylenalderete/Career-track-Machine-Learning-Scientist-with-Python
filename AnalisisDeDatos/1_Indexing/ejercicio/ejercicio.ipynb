{
  "cells": [
    {
      "cell_type": "markdown",
      "metadata": {
        "id": "0zVI5eSAW22G"
      },
      "source": [
        "<a href=\"https://colab.research.google.com/github/institutohumai/cursos-python/blob/master/AnalisisDeDatos/1_Indexing/ejercicio/ejercicio.ipynb\"> <img src='https://colab.research.google.com/assets/colab-badge.svg' /> </a>\n",
        "<div align=\"center\"> Recordá abrir en una nueva pestaña </div>\n",
        "\n",
        "\n",
        "Para este ejercicio vamos a importar un conjunto de datos con el listado de colegios públicos de Bogotá del año 2016"
      ]
    },
    {
      "cell_type": "markdown",
      "metadata": {
        "id": "Nyevd_f1W22Q"
      },
      "source": [
        "# Ejercicios Pandas I"
      ]
    },
    {
      "cell_type": "code",
      "execution_count": null,
      "metadata": {
        "id": "Up3imZHqW22S"
      },
      "outputs": [],
      "source": [
        "import pandas as pd"
      ]
    },
    {
      "cell_type": "code",
      "execution_count": null,
      "metadata": {
        "id": "u8UH7evYW22W"
      },
      "outputs": [],
      "source": [
        "df_colegios = pd.read_csv('https://www.datos.gov.co/api/views/qijw-htwa/rows.csv?accessType=DOWNLOAD')"
      ]
    },
    {
      "cell_type": "markdown",
      "metadata": {
        "id": "Nb0sk-ZDW22X"
      },
      "source": [
        "¿Cuáles son las columnas? ¿Cuántas filas tiene?"
      ]
    },
    {
      "cell_type": "code",
      "execution_count": null,
      "metadata": {
        "id": "dDUL37SMW22Z"
      },
      "outputs": [],
      "source": [
        ""
      ]
    },
    {
      "cell_type": "code",
      "execution_count": null,
      "metadata": {
        "id": "NWO8gWvuW22a"
      },
      "outputs": [],
      "source": [
        ""
      ]
    },
    {
      "cell_type": "markdown",
      "metadata": {
        "id": "2LUz6FyjW22c"
      },
      "source": [
        "Seleccionen los colegios donde la propiedad de la planta física sea de una persona natural o comunidad religiosa."
      ]
    },
    {
      "cell_type": "code",
      "execution_count": null,
      "metadata": {
        "id": "LhBcYOS9W22d"
      },
      "outputs": [],
      "source": [
        ""
      ]
    },
    {
      "cell_type": "markdown",
      "metadata": {
        "id": "jNS7GuedW22e"
      },
      "source": [
        "¿Hay alguno de estos colegios que sea para capacidades excepcionales?"
      ]
    },
    {
      "cell_type": "code",
      "execution_count": null,
      "metadata": {
        "id": "jiSfLAxDW22h"
      },
      "outputs": [],
      "source": [
        ""
      ]
    },
    {
      "cell_type": "markdown",
      "metadata": {
        "id": "izeeLLy5W22i"
      },
      "source": [
        "¿Cuáles son los colegios que ofrecen todos los niveles educativos? ¿Qué idiomas ofrecen?"
      ]
    },
    {
      "cell_type": "code",
      "execution_count": null,
      "metadata": {
        "id": "5LJBbrH3W22j"
      },
      "outputs": [],
      "source": [
        ""
      ]
    },
    {
      "cell_type": "code",
      "execution_count": null,
      "metadata": {
        "id": "q5ANRv9zW22k"
      },
      "outputs": [],
      "source": [
        ""
      ]
    }
  ],
  "metadata": {
    "kernelspec": {
      "display_name": "conda_python3",
      "language": "python",
      "name": "conda_python3"
    },
    "language_info": {
      "codemirror_mode": {
        "name": "ipython",
        "version": 3
      },
      "file_extension": ".py",
      "mimetype": "text/x-python",
      "name": "python",
      "nbconvert_exporter": "python",
      "pygments_lexer": "ipython3",
      "version": "3.6.10"
    },
    "colab": {
      "name": "ejercicio.ipynb",
      "provenance": []
    }
  },
  "nbformat": 4,
  "nbformat_minor": 0
}