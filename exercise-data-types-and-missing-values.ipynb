{
 "cells": [
  {
   "cell_type": "markdown",
   "id": "f413608a",
   "metadata": {
    "papermill": {
     "duration": 0.005992,
     "end_time": "2022-06-21T14:15:31.188940",
     "exception": false,
     "start_time": "2022-06-21T14:15:31.182948",
     "status": "completed"
    },
    "tags": []
   },
   "source": [
    "**This notebook is an exercise in the [Pandas](https://www.kaggle.com/learn/pandas) course.  You can reference the tutorial at [this link](https://www.kaggle.com/residentmario/data-types-and-missing-values).**\n",
    "\n",
    "---\n"
   ]
  },
  {
   "cell_type": "markdown",
   "id": "698c7182",
   "metadata": {
    "papermill": {
     "duration": 0.004534,
     "end_time": "2022-06-21T14:15:31.198588",
     "exception": false,
     "start_time": "2022-06-21T14:15:31.194054",
     "status": "completed"
    },
    "tags": []
   },
   "source": [
    "# Introduction\n",
    "\n",
    "Run the following cell to load your data and some utility functions."
   ]
  },
  {
   "cell_type": "code",
   "execution_count": 1,
   "id": "31fd7f9e",
   "metadata": {
    "execution": {
     "iopub.execute_input": "2022-06-21T14:15:31.210695Z",
     "iopub.status.busy": "2022-06-21T14:15:31.209860Z",
     "iopub.status.idle": "2022-06-21T14:15:34.159618Z",
     "shell.execute_reply": "2022-06-21T14:15:34.158705Z"
    },
    "papermill": {
     "duration": 2.959152,
     "end_time": "2022-06-21T14:15:34.162614",
     "exception": false,
     "start_time": "2022-06-21T14:15:31.203462",
     "status": "completed"
    },
    "tags": []
   },
   "outputs": [
    {
     "name": "stdout",
     "output_type": "stream",
     "text": [
      "Setup complete.\n"
     ]
    }
   ],
   "source": [
    "import pandas as pd\n",
    "\n",
    "reviews = pd.read_csv(\"../input/wine-reviews/winemag-data-130k-v2.csv\", index_col=0)\n",
    "\n",
    "from learntools.core import binder; binder.bind(globals())\n",
    "from learntools.pandas.data_types_and_missing_data import *\n",
    "print(\"Setup complete.\")"
   ]
  },
  {
   "cell_type": "markdown",
   "id": "77525dca",
   "metadata": {
    "papermill": {
     "duration": 0.004701,
     "end_time": "2022-06-21T14:15:34.172409",
     "exception": false,
     "start_time": "2022-06-21T14:15:34.167708",
     "status": "completed"
    },
    "tags": []
   },
   "source": [
    "# Exercises"
   ]
  },
  {
   "cell_type": "markdown",
   "id": "5fbd8887",
   "metadata": {
    "papermill": {
     "duration": 0.004563,
     "end_time": "2022-06-21T14:15:34.181954",
     "exception": false,
     "start_time": "2022-06-21T14:15:34.177391",
     "status": "completed"
    },
    "tags": []
   },
   "source": [
    "## 1. \n",
    "What is the data type of the `points` column in the dataset?"
   ]
  },
  {
   "cell_type": "code",
   "execution_count": 2,
   "id": "94169a63",
   "metadata": {
    "execution": {
     "iopub.execute_input": "2022-06-21T14:15:34.194752Z",
     "iopub.status.busy": "2022-06-21T14:15:34.192919Z",
     "iopub.status.idle": "2022-06-21T14:15:34.206347Z",
     "shell.execute_reply": "2022-06-21T14:15:34.205055Z"
    },
    "papermill": {
     "duration": 0.021805,
     "end_time": "2022-06-21T14:15:34.208640",
     "exception": false,
     "start_time": "2022-06-21T14:15:34.186835",
     "status": "completed"
    },
    "tags": []
   },
   "outputs": [
    {
     "data": {
      "application/javascript": [
       "parent.postMessage({\"jupyterEvent\": \"custom.exercise_interaction\", \"data\": {\"outcomeType\": 1, \"valueTowardsCompletion\": 0.25, \"interactionType\": 1, \"questionType\": 1, \"questionId\": \"1_PointsDtype\", \"learnToolsVersion\": \"0.3.4\", \"failureMessage\": \"\", \"exceptionClass\": \"\", \"trace\": \"\"}}, \"*\")"
      ],
      "text/plain": [
       "<IPython.core.display.Javascript object>"
      ]
     },
     "metadata": {},
     "output_type": "display_data"
    },
    {
     "data": {
      "text/markdown": [
       "<span style=\"color:#33cc33\">Correct</span>"
      ],
      "text/plain": [
       "Correct"
      ]
     },
     "metadata": {},
     "output_type": "display_data"
    }
   ],
   "source": [
    "# Your code here\n",
    "dtype = reviews.points.dtype\n",
    "\n",
    "# Check your answer\n",
    "q1.check()"
   ]
  },
  {
   "cell_type": "code",
   "execution_count": 3,
   "id": "79b456a6",
   "metadata": {
    "execution": {
     "iopub.execute_input": "2022-06-21T14:15:34.220543Z",
     "iopub.status.busy": "2022-06-21T14:15:34.220117Z",
     "iopub.status.idle": "2022-06-21T14:15:34.224628Z",
     "shell.execute_reply": "2022-06-21T14:15:34.223395Z"
    },
    "papermill": {
     "duration": 0.012921,
     "end_time": "2022-06-21T14:15:34.226764",
     "exception": false,
     "start_time": "2022-06-21T14:15:34.213843",
     "status": "completed"
    },
    "tags": []
   },
   "outputs": [],
   "source": [
    "#q1.hint()\n",
    "#q1.solution()"
   ]
  },
  {
   "cell_type": "markdown",
   "id": "ed6dc264",
   "metadata": {
    "papermill": {
     "duration": 0.004852,
     "end_time": "2022-06-21T14:15:34.236842",
     "exception": false,
     "start_time": "2022-06-21T14:15:34.231990",
     "status": "completed"
    },
    "tags": []
   },
   "source": [
    "## 2. \n",
    "Create a Series from entries in the `points` column, but convert the entries to strings. Hint: strings are `str` in native Python."
   ]
  },
  {
   "cell_type": "code",
   "execution_count": 4,
   "id": "6988fd8e",
   "metadata": {
    "execution": {
     "iopub.execute_input": "2022-06-21T14:15:34.249042Z",
     "iopub.status.busy": "2022-06-21T14:15:34.248658Z",
     "iopub.status.idle": "2022-06-21T14:15:34.390279Z",
     "shell.execute_reply": "2022-06-21T14:15:34.388929Z"
    },
    "papermill": {
     "duration": 0.150478,
     "end_time": "2022-06-21T14:15:34.392659",
     "exception": false,
     "start_time": "2022-06-21T14:15:34.242181",
     "status": "completed"
    },
    "tags": []
   },
   "outputs": [
    {
     "data": {
      "application/javascript": [
       "parent.postMessage({\"jupyterEvent\": \"custom.exercise_interaction\", \"data\": {\"outcomeType\": 1, \"valueTowardsCompletion\": 0.25, \"interactionType\": 1, \"questionType\": 1, \"questionId\": \"2_StrPoints\", \"learnToolsVersion\": \"0.3.4\", \"failureMessage\": \"\", \"exceptionClass\": \"\", \"trace\": \"\"}}, \"*\")"
      ],
      "text/plain": [
       "<IPython.core.display.Javascript object>"
      ]
     },
     "metadata": {},
     "output_type": "display_data"
    },
    {
     "data": {
      "text/markdown": [
       "<span style=\"color:#33cc33\">Correct</span>"
      ],
      "text/plain": [
       "Correct"
      ]
     },
     "metadata": {},
     "output_type": "display_data"
    }
   ],
   "source": [
    "point_strings = reviews.points.astype('str')\n",
    "\n",
    "# Check your answer\n",
    "q2.check()"
   ]
  },
  {
   "cell_type": "code",
   "execution_count": 5,
   "id": "ac52a251",
   "metadata": {
    "execution": {
     "iopub.execute_input": "2022-06-21T14:15:34.406177Z",
     "iopub.status.busy": "2022-06-21T14:15:34.405590Z",
     "iopub.status.idle": "2022-06-21T14:15:34.410446Z",
     "shell.execute_reply": "2022-06-21T14:15:34.409191Z"
    },
    "papermill": {
     "duration": 0.014461,
     "end_time": "2022-06-21T14:15:34.412902",
     "exception": false,
     "start_time": "2022-06-21T14:15:34.398441",
     "status": "completed"
    },
    "tags": []
   },
   "outputs": [],
   "source": [
    "#q2.hint()\n",
    "#q2.solution()"
   ]
  },
  {
   "cell_type": "markdown",
   "id": "32f1d656",
   "metadata": {
    "papermill": {
     "duration": 0.005215,
     "end_time": "2022-06-21T14:15:34.423834",
     "exception": false,
     "start_time": "2022-06-21T14:15:34.418619",
     "status": "completed"
    },
    "tags": []
   },
   "source": [
    "## 3.\n",
    "Sometimes the price column is null. How many reviews in the dataset are missing a price?"
   ]
  },
  {
   "cell_type": "code",
   "execution_count": 6,
   "id": "0b0f526b",
   "metadata": {
    "execution": {
     "iopub.execute_input": "2022-06-21T14:15:34.437028Z",
     "iopub.status.busy": "2022-06-21T14:15:34.436374Z",
     "iopub.status.idle": "2022-06-21T14:15:34.453043Z",
     "shell.execute_reply": "2022-06-21T14:15:34.451867Z"
    },
    "papermill": {
     "duration": 0.026354,
     "end_time": "2022-06-21T14:15:34.455675",
     "exception": false,
     "start_time": "2022-06-21T14:15:34.429321",
     "status": "completed"
    },
    "tags": []
   },
   "outputs": [
    {
     "data": {
      "application/javascript": [
       "parent.postMessage({\"jupyterEvent\": \"custom.exercise_interaction\", \"data\": {\"outcomeType\": 1, \"valueTowardsCompletion\": 0.25, \"interactionType\": 1, \"questionType\": 1, \"questionId\": \"3_CountMissingPrices\", \"learnToolsVersion\": \"0.3.4\", \"failureMessage\": \"\", \"exceptionClass\": \"\", \"trace\": \"\"}}, \"*\")"
      ],
      "text/plain": [
       "<IPython.core.display.Javascript object>"
      ]
     },
     "metadata": {},
     "output_type": "display_data"
    },
    {
     "data": {
      "text/markdown": [
       "<span style=\"color:#33cc33\">Correct</span>"
      ],
      "text/plain": [
       "Correct"
      ]
     },
     "metadata": {},
     "output_type": "display_data"
    }
   ],
   "source": [
    "missing_price_reviews = reviews[reviews.price.isnull()]\n",
    "n_missing_prices = len(missing_price_reviews)\n",
    "\n",
    "# Check your answer\n",
    "q3.check()"
   ]
  },
  {
   "cell_type": "code",
   "execution_count": 7,
   "id": "5d2c63d9",
   "metadata": {
    "execution": {
     "iopub.execute_input": "2022-06-21T14:15:34.469001Z",
     "iopub.status.busy": "2022-06-21T14:15:34.468625Z",
     "iopub.status.idle": "2022-06-21T14:15:34.482324Z",
     "shell.execute_reply": "2022-06-21T14:15:34.481149Z"
    },
    "papermill": {
     "duration": 0.023104,
     "end_time": "2022-06-21T14:15:34.484566",
     "exception": false,
     "start_time": "2022-06-21T14:15:34.461462",
     "status": "completed"
    },
    "tags": []
   },
   "outputs": [
    {
     "data": {
      "application/javascript": [
       "parent.postMessage({\"jupyterEvent\": \"custom.exercise_interaction\", \"data\": {\"interactionType\": 2, \"questionType\": 1, \"questionId\": \"3_CountMissingPrices\", \"learnToolsVersion\": \"0.3.4\", \"valueTowardsCompletion\": 0.0, \"failureMessage\": \"\", \"exceptionClass\": \"\", \"trace\": \"\", \"outcomeType\": 4}}, \"*\")"
      ],
      "text/plain": [
       "<IPython.core.display.Javascript object>"
      ]
     },
     "metadata": {},
     "output_type": "display_data"
    },
    {
     "data": {
      "text/markdown": [
       "<span style=\"color:#3366cc\">Hint:</span> Use `pd.isnull()`."
      ],
      "text/plain": [
       "Hint: Use `pd.isnull()`."
      ]
     },
     "metadata": {},
     "output_type": "display_data"
    },
    {
     "data": {
      "application/javascript": [
       "parent.postMessage({\"jupyterEvent\": \"custom.exercise_interaction\", \"data\": {\"interactionType\": 3, \"questionType\": 1, \"questionId\": \"3_CountMissingPrices\", \"learnToolsVersion\": \"0.3.4\", \"valueTowardsCompletion\": 0.0, \"failureMessage\": \"\", \"exceptionClass\": \"\", \"trace\": \"\", \"outcomeType\": 4}}, \"*\")"
      ],
      "text/plain": [
       "<IPython.core.display.Javascript object>"
      ]
     },
     "metadata": {},
     "output_type": "display_data"
    },
    {
     "data": {
      "text/markdown": [
       "<span style=\"color:#33cc99\">Solution:</span> \n",
       "```python\n",
       "missing_price_reviews = reviews[reviews.price.isnull()]\n",
       "n_missing_prices = len(missing_price_reviews)\n",
       "# Cute alternative solution: if we sum a boolean series, True is treated as 1 and False as 0\n",
       "n_missing_prices = reviews.price.isnull().sum()\n",
       "# or equivalently:\n",
       "n_missing_prices = pd.isnull(reviews.price).sum()\n",
       "\n",
       "```"
      ],
      "text/plain": [
       "Solution: \n",
       "```python\n",
       "missing_price_reviews = reviews[reviews.price.isnull()]\n",
       "n_missing_prices = len(missing_price_reviews)\n",
       "# Cute alternative solution: if we sum a boolean series, True is treated as 1 and False as 0\n",
       "n_missing_prices = reviews.price.isnull().sum()\n",
       "# or equivalently:\n",
       "n_missing_prices = pd.isnull(reviews.price).sum()\n",
       "\n",
       "```"
      ]
     },
     "metadata": {},
     "output_type": "display_data"
    }
   ],
   "source": [
    "q3.hint()\n",
    "q3.solution()"
   ]
  },
  {
   "cell_type": "markdown",
   "id": "164f244e",
   "metadata": {
    "papermill": {
     "duration": 0.005917,
     "end_time": "2022-06-21T14:15:34.496772",
     "exception": false,
     "start_time": "2022-06-21T14:15:34.490855",
     "status": "completed"
    },
    "tags": []
   },
   "source": [
    "## 4.\n",
    "What are the most common wine-producing regions? Create a Series counting the number of times each value occurs in the `region_1` field. This field is often missing data, so replace missing values with `Unknown`. Sort in descending order.  Your output should look something like this:\n",
    "\n",
    "```\n",
    "Unknown                    21247\n",
    "Napa Valley                 4480\n",
    "                           ...  \n",
    "Bardolino Superiore            1\n",
    "Primitivo del Tarantino        1\n",
    "Name: region_1, Length: 1230, dtype: int64\n",
    "```"
   ]
  },
  {
   "cell_type": "code",
   "execution_count": 8,
   "id": "188b9c10",
   "metadata": {
    "execution": {
     "iopub.execute_input": "2022-06-21T14:15:34.511297Z",
     "iopub.status.busy": "2022-06-21T14:15:34.510952Z",
     "iopub.status.idle": "2022-06-21T14:15:34.592863Z",
     "shell.execute_reply": "2022-06-21T14:15:34.591785Z"
    },
    "papermill": {
     "duration": 0.092376,
     "end_time": "2022-06-21T14:15:34.595386",
     "exception": false,
     "start_time": "2022-06-21T14:15:34.503010",
     "status": "completed"
    },
    "tags": []
   },
   "outputs": [
    {
     "data": {
      "application/javascript": [
       "parent.postMessage({\"jupyterEvent\": \"custom.exercise_interaction\", \"data\": {\"outcomeType\": 1, \"valueTowardsCompletion\": 0.25, \"interactionType\": 1, \"questionType\": 2, \"questionId\": \"4_ReviewsPerRegion\", \"learnToolsVersion\": \"0.3.4\", \"failureMessage\": \"\", \"exceptionClass\": \"\", \"trace\": \"\"}}, \"*\")"
      ],
      "text/plain": [
       "<IPython.core.display.Javascript object>"
      ]
     },
     "metadata": {},
     "output_type": "display_data"
    },
    {
     "data": {
      "text/markdown": [
       "<span style=\"color:#33cc33\">Correct</span>"
      ],
      "text/plain": [
       "Correct"
      ]
     },
     "metadata": {},
     "output_type": "display_data"
    }
   ],
   "source": [
    "reviews_per_region = reviews.region_1.fillna('Unknown').value_counts().sort_values(ascending=False)\n",
    "\n",
    "# Check your answer\n",
    "q4.check()"
   ]
  },
  {
   "cell_type": "code",
   "execution_count": 9,
   "id": "b9befd01",
   "metadata": {
    "execution": {
     "iopub.execute_input": "2022-06-21T14:15:34.611012Z",
     "iopub.status.busy": "2022-06-21T14:15:34.610607Z",
     "iopub.status.idle": "2022-06-21T14:15:34.624043Z",
     "shell.execute_reply": "2022-06-21T14:15:34.622978Z"
    },
    "papermill": {
     "duration": 0.024262,
     "end_time": "2022-06-21T14:15:34.626413",
     "exception": false,
     "start_time": "2022-06-21T14:15:34.602151",
     "status": "completed"
    },
    "tags": []
   },
   "outputs": [
    {
     "data": {
      "application/javascript": [
       "parent.postMessage({\"jupyterEvent\": \"custom.exercise_interaction\", \"data\": {\"interactionType\": 2, \"questionType\": 2, \"questionId\": \"4_ReviewsPerRegion\", \"learnToolsVersion\": \"0.3.4\", \"valueTowardsCompletion\": 0.0, \"failureMessage\": \"\", \"exceptionClass\": \"\", \"trace\": \"\", \"outcomeType\": 4}}, \"*\")"
      ],
      "text/plain": [
       "<IPython.core.display.Javascript object>"
      ]
     },
     "metadata": {},
     "output_type": "display_data"
    },
    {
     "data": {
      "text/markdown": [
       "<span style=\"color:#3366cc\">Hint:</span> Use `fillna()`, `value_counts()`, and `sort_values()`."
      ],
      "text/plain": [
       "Hint: Use `fillna()`, `value_counts()`, and `sort_values()`."
      ]
     },
     "metadata": {},
     "output_type": "display_data"
    },
    {
     "data": {
      "application/javascript": [
       "parent.postMessage({\"jupyterEvent\": \"custom.exercise_interaction\", \"data\": {\"interactionType\": 3, \"questionType\": 2, \"questionId\": \"4_ReviewsPerRegion\", \"learnToolsVersion\": \"0.3.4\", \"valueTowardsCompletion\": 0.0, \"failureMessage\": \"\", \"exceptionClass\": \"\", \"trace\": \"\", \"outcomeType\": 4}}, \"*\")"
      ],
      "text/plain": [
       "<IPython.core.display.Javascript object>"
      ]
     },
     "metadata": {},
     "output_type": "display_data"
    },
    {
     "data": {
      "text/markdown": [
       "<span style=\"color:#33cc99\">Solution:</span> \n",
       "```python\n",
       "reviews_per_region = reviews.region_1.fillna('Unknown').value_counts().sort_values(ascending=False)\n",
       "```"
      ],
      "text/plain": [
       "Solution: \n",
       "```python\n",
       "reviews_per_region = reviews.region_1.fillna('Unknown').value_counts().sort_values(ascending=False)\n",
       "```"
      ]
     },
     "metadata": {},
     "output_type": "display_data"
    }
   ],
   "source": [
    "q4.hint()\n",
    "q4.solution()"
   ]
  },
  {
   "cell_type": "markdown",
   "id": "3597c782",
   "metadata": {
    "papermill": {
     "duration": 0.006938,
     "end_time": "2022-06-21T14:15:34.640687",
     "exception": false,
     "start_time": "2022-06-21T14:15:34.633749",
     "status": "completed"
    },
    "tags": []
   },
   "source": [
    "# Keep going\n",
    "\n",
    "Move on to **[renaming and combining](https://www.kaggle.com/residentmario/renaming-and-combining)**."
   ]
  },
  {
   "cell_type": "markdown",
   "id": "b33c80b1",
   "metadata": {
    "papermill": {
     "duration": 0.006804,
     "end_time": "2022-06-21T14:15:34.654661",
     "exception": false,
     "start_time": "2022-06-21T14:15:34.647857",
     "status": "completed"
    },
    "tags": []
   },
   "source": [
    "---\n",
    "\n",
    "\n",
    "\n",
    "\n",
    "*Have questions or comments? Visit the [course discussion forum](https://www.kaggle.com/learn/pandas/discussion) to chat with other learners.*"
   ]
  }
 ],
 "metadata": {
  "kernelspec": {
   "display_name": "Python 3",
   "language": "python",
   "name": "python3"
  },
  "language_info": {
   "codemirror_mode": {
    "name": "ipython",
    "version": 3
   },
   "file_extension": ".py",
   "mimetype": "text/x-python",
   "name": "python",
   "nbconvert_exporter": "python",
   "pygments_lexer": "ipython3",
   "version": "3.7.12"
  },
  "papermill": {
   "default_parameters": {},
   "duration": 14.875424,
   "end_time": "2022-06-21T14:15:35.384141",
   "environment_variables": {},
   "exception": null,
   "input_path": "__notebook__.ipynb",
   "output_path": "__notebook__.ipynb",
   "parameters": {},
   "start_time": "2022-06-21T14:15:20.508717",
   "version": "2.3.4"
  }
 },
 "nbformat": 4,
 "nbformat_minor": 5
}
